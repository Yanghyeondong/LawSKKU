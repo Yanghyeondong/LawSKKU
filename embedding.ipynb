{
 "cells": [
  {
   "cell_type": "code",
   "execution_count": 4,
   "metadata": {},
   "outputs": [],
   "source": [
    "from openai import OpenAI\n",
    "client = OpenAI(api_key='sk-proj-0SPGwDGsnFum7WS2wMGpT3BlbkFJwdLZHeFJcEa2gSdCuIFV')\n",
    "\n",
    "def get_embedding(text, model=\"text-embedding-3-small\"):\n",
    "   text = text.replace(\"\\n\", \" \")\n",
    "   return client.embeddings.create(input = [text], model=model).data[0].embedding"
   ]
  },
  {
   "cell_type": "code",
   "execution_count": 1,
   "metadata": {},
   "outputs": [],
   "source": [
    "import json\n",
    "file_path='data/law_data/new_법령이름.json'\n",
    "with open(file_path, 'r', encoding='utf-8') as file:\n",
    "    data = json.load(file)"
   ]
  },
  {
   "cell_type": "code",
   "execution_count": 2,
   "metadata": {},
   "outputs": [],
   "source": [
    "import json\n",
    "file_path='data/law_data/new_질문&법령.json'\n",
    "with open(file_path, 'r', encoding='utf-8') as file:\n",
    "    data1 = json.load(file)"
   ]
  },
  {
   "cell_type": "code",
   "execution_count": 18,
   "metadata": {},
   "outputs": [],
   "source": [
    "list1=[]\n",
    "for i in range(len(data)):\n",
    "    list1.append(get_embedding(data[i]['법내용']))"
   ]
  },
  {
   "cell_type": "code",
   "execution_count": 101,
   "metadata": {},
   "outputs": [
    {
     "name": "stderr",
     "output_type": "stream",
     "text": [
      "100%|██████████| 5802/5802 [29:03<00:00,  3.33it/s] \n"
     ]
    }
   ],
   "source": [
    "from tqdm import tqdm\n",
    "list2=[]\n",
    "for i in tqdm(range(len(data1))):\n",
    "    list2.append(get_embedding(data1[i]['질문']))"
   ]
  },
  {
   "cell_type": "code",
   "execution_count": 19,
   "metadata": {},
   "outputs": [],
   "source": [
    "import pickle\n",
    "import numpy as np\n",
    "embeddings=np.array(list1)\n",
    "with open('embeddings.pkl', 'wb') as f:\n",
    "    pickle.dump(embeddings, f)"
   ]
  },
  {
   "cell_type": "code",
   "execution_count": 102,
   "metadata": {},
   "outputs": [],
   "source": [
    "import pickle\n",
    "import numpy as np\n",
    "embeddings=np.array(list2)\n",
    "with open('q_embeddings.pkl', 'wb') as f:\n",
    "    pickle.dump(embeddings, f)"
   ]
  },
  {
   "cell_type": "code",
   "execution_count": 6,
   "metadata": {},
   "outputs": [],
   "source": [
    "import pickle\n",
    "import faiss\n",
    "\n",
    "# pkl 파일에서 임베딩 로드\n",
    "with open('embeddings.pkl', 'rb') as f:\n",
    "    embeddings = pickle.load(f)\n",
    "\n",
    "# Faiss 인덱스 생성\n",
    "dimension = embeddings.shape[1]# 임베딩의 차원\n",
    "index = faiss.IndexFlatL2(dimension)  # L2 거리 사용\n",
    "\n",
    "# 임베딩을 Faiss 인덱스에 추가\n",
    "index.add(embeddings)\n",
    "\n",
    "#predict \n",
    "def predict(question,k,index):\n",
    "    distances, indices = index.search(question, k)\n",
    "    return indices[0]\n",
    "\n",
    "def get_preds(predict_number, data):\n",
    "    preds=[]\n",
    "    for i in predict_number:\n",
    "        preds.append(data[i]['법이름'])\n",
    "    return preds\n",
    "\n",
    "def test(index,k,data,data1):\n",
    "    with open('q_embeddings.pkl', 'rb') as f:\n",
    "        q_list = pickle.load(f)\n",
    "    total=0\n",
    "    for q_i, q in enumerate(tqdm(q_list)):\n",
    "        predict_number=predict(q.reshape(1,-1),k,index)\n",
    "        preds=get_preds(predict_number, data)\n",
    "        total+=recall(data1[q_i]['법령'],preds)\n",
    "    return total/len(q_list)"
   ]
  },
  {
   "cell_type": "code",
   "execution_count": 65,
   "metadata": {},
   "outputs": [],
   "source": [
    "#recall k \n",
    "def recall(answers, preds):\n",
    "    t=0\n",
    "    for ans in answers:\n",
    "        if ans in preds:\n",
    "            t+=1\n",
    "    \n",
    "    return t/len(answers)"
   ]
  },
  {
   "cell_type": "code",
   "execution_count": 105,
   "metadata": {},
   "outputs": [],
   "source": [
    "def test(index,k,data,data1):\n",
    "    with open('q_embeddings.pkl', 'rb') as f:\n",
    "        q_list = pickle.load(f)\n",
    "    total=0\n",
    "    for q_i, q in enumerate(tqdm(q_list)):\n",
    "        predict_number=predict(q.reshape(1,-1),k,index)\n",
    "        preds=get_preds(predict_number, data)\n",
    "        total+=recall(data1[q_i]['법령'],preds)\n",
    "    return total/len(q_list)"
   ]
  },
  {
   "cell_type": "code",
   "execution_count": null,
   "metadata": {},
   "outputs": [],
   "source": [
    "len(bm25_result"
   ]
  },
  {
   "cell_type": "code",
   "execution_count": 112,
   "metadata": {},
   "outputs": [
    {
     "name": "stderr",
     "output_type": "stream",
     "text": [
      "100%|██████████| 5802/5802 [00:03<00:00, 1681.01it/s]\n"
     ]
    },
    {
     "data": {
      "text/plain": [
       "0.6622247335471223"
      ]
     },
     "execution_count": 112,
     "metadata": {},
     "output_type": "execute_result"
    }
   ],
   "source": [
    "test(index,100,data,data1)"
   ]
  },
  {
   "cell_type": "code",
   "execution_count": null,
   "metadata": {},
   "outputs": [],
   "source": [
    "client = OpenAI(\n",
    "    api_key = \"sk-proj-0SPGwDGsnFum7WS2wMGpT3BlbkFJwdLZHeFJcEa2gSdCuIFV\"\n",
    ")\n",
    "\n"
   ]
  },
  {
   "cell_type": "code",
   "execution_count": 137,
   "metadata": {},
   "outputs": [
    {
     "name": "stderr",
     "output_type": "stream",
     "text": [
      "100%|██████████| 1464/1464 [41:59<00:00,  1.72s/it]\n"
     ]
    }
   ],
   "source": [
    "for i in tqdm(range(len(data))):   \n",
    "    text_info = data[i]['법내용']\n",
    "    prompt=f'''\n",
    "    #TEXT{text_info}\n",
    "    # TASK\n",
    "    I will provide you with a document. Your task is to generate five questions that are related to the content of the document. \n",
    "    These questions should help in understanding the main ideas, themes, and important details within the document. \n",
    "    Ensure the questions are diverse and cover different aspects of the document, such as the main argument, supporting details, implications, and any interesting points raised. \n",
    "    It must be written in Korean. \n",
    "    Here is the document:'''\n",
    "\n",
    "    message = [\n",
    "        {\"role\": \"user\", \"content\": prompt},\n",
    "    ]\n",
    "\n",
    "    request_data = {\n",
    "        \"messages\": message,\n",
    "        \"max_tokens\": 250,\n",
    "        \"temperature\": 0,\n",
    "        \"top_p\": 1,\n",
    "        \"n\": 1,\n",
    "        \"stream\": False,\n",
    "    }\n",
    "\n",
    "\n",
    "    response = client.chat.completions.create(\n",
    "        model=\"gpt-3.5-turbo\",\n",
    "        **request_data,\n",
    "    )\n",
    "\n",
    "    # data[i]['관련질의']=response.choices[0].message.content\n",
    "    a=response.choices[0].message.content\n",
    "    break\n",
    "a"
   ]
  }
 ],
 "metadata": {
  "kernelspec": {
   "display_name": "june",
   "language": "python",
   "name": "python3"
  },
  "language_info": {
   "codemirror_mode": {
    "name": "ipython",
    "version": 3
   },
   "file_extension": ".py",
   "mimetype": "text/x-python",
   "name": "python",
   "nbconvert_exporter": "python",
   "pygments_lexer": "ipython3",
   "version": "3.10.13"
  }
 },
 "nbformat": 4,
 "nbformat_minor": 2
}
